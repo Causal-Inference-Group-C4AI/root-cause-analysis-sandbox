{
 "cells": [
  {
   "cell_type": "markdown",
   "metadata": {},
   "source": [
    "# Testing RCA algortithms "
   ]
  },
  {
   "cell_type": "code",
   "execution_count": 39,
   "metadata": {},
   "outputs": [],
   "source": [
    "import pandas as pd\n",
    "from pyrca.analyzers.ht import HT\n",
    "from pyrca.analyzers.random_walk import RandomWalk\n",
    "from pyrca.outliers.stats import StatsDetector, StatsDetectorConfig\n",
    "from pyrca.analyzers.bayesian import BayesianNetwork\n",
    "from pyrca.analyzers.epsilon_diagnosis import EpsilonDiagnosis\n",
    "from pyrca.analyzers.rcd import RCD\n",
    "import networkx as nx"
   ]
  },
  {
   "cell_type": "markdown",
   "metadata": {},
   "source": [
    "## Data"
   ]
  },
  {
   "cell_type": "code",
   "execution_count": 40,
   "metadata": {},
   "outputs": [],
   "source": [
    "BASE_DIR = \"../data/\"\n",
    "\n",
    "graph_df_m = pd.read_csv(BASE_DIR + 'Incidence_Matrix_of_the_Graph.csv', index_col=0)\n",
    "graph_df = pd.read_csv(BASE_DIR + 'Causal_Graph_Incidence_Matrix.csv', index_col=0)"
   ]
  },
  {
   "cell_type": "code",
   "execution_count": 41,
   "metadata": {},
   "outputs": [
    {
     "data": {
      "text/html": [
       "<div>\n",
       "<style scoped>\n",
       "    .dataframe tbody tr th:only-of-type {\n",
       "        vertical-align: middle;\n",
       "    }\n",
       "\n",
       "    .dataframe tbody tr th {\n",
       "        vertical-align: top;\n",
       "    }\n",
       "\n",
       "    .dataframe thead th {\n",
       "        text-align: right;\n",
       "    }\n",
       "</style>\n",
       "<table border=\"1\" class=\"dataframe\">\n",
       "  <thead>\n",
       "    <tr style=\"text-align: right;\">\n",
       "      <th></th>\n",
       "      <th>Time</th>\n",
       "      <th>Shopping Event?</th>\n",
       "      <th>Ad Spend</th>\n",
       "      <th>Page Views</th>\n",
       "      <th>Unit Price</th>\n",
       "      <th>Sold Units</th>\n",
       "      <th>Revenue</th>\n",
       "      <th>Operational Cost</th>\n",
       "      <th>Profit</th>\n",
       "    </tr>\n",
       "  </thead>\n",
       "  <tbody>\n",
       "    <tr>\n",
       "      <th>0</th>\n",
       "      <td>0.0</td>\n",
       "      <td>0</td>\n",
       "      <td>1490.490265</td>\n",
       "      <td>11861</td>\n",
       "      <td>999.0</td>\n",
       "      <td>2317</td>\n",
       "      <td>2314683.0</td>\n",
       "      <td>1.660000e+06</td>\n",
       "      <td>654683.105645</td>\n",
       "    </tr>\n",
       "    <tr>\n",
       "      <th>1</th>\n",
       "      <td>86400.0</td>\n",
       "      <td>0</td>\n",
       "      <td>1455.917463</td>\n",
       "      <td>11776</td>\n",
       "      <td>999.0</td>\n",
       "      <td>2355</td>\n",
       "      <td>2352645.0</td>\n",
       "      <td>1.678959e+06</td>\n",
       "      <td>673685.919907</td>\n",
       "    </tr>\n",
       "    <tr>\n",
       "      <th>2</th>\n",
       "      <td>172800.0</td>\n",
       "      <td>0</td>\n",
       "      <td>1405.824790</td>\n",
       "      <td>11861</td>\n",
       "      <td>999.0</td>\n",
       "      <td>2391</td>\n",
       "      <td>2388609.0</td>\n",
       "      <td>1.696906e+06</td>\n",
       "      <td>691702.862976</td>\n",
       "    </tr>\n",
       "    <tr>\n",
       "      <th>3</th>\n",
       "      <td>259200.0</td>\n",
       "      <td>0</td>\n",
       "      <td>1379.299391</td>\n",
       "      <td>11677</td>\n",
       "      <td>999.0</td>\n",
       "      <td>2344</td>\n",
       "      <td>2341656.0</td>\n",
       "      <td>1.673381e+06</td>\n",
       "      <td>668275.364656</td>\n",
       "    </tr>\n",
       "    <tr>\n",
       "      <th>4</th>\n",
       "      <td>345600.0</td>\n",
       "      <td>0</td>\n",
       "      <td>1234.199268</td>\n",
       "      <td>11871</td>\n",
       "      <td>999.0</td>\n",
       "      <td>2412</td>\n",
       "      <td>2409588.0</td>\n",
       "      <td>1.707253e+06</td>\n",
       "      <td>702335.386013</td>\n",
       "    </tr>\n",
       "  </tbody>\n",
       "</table>\n",
       "</div>"
      ],
      "text/plain": [
       "       Time  Shopping Event?     Ad Spend  Page Views  Unit Price  Sold Units  \\\n",
       "0       0.0                0  1490.490265       11861       999.0        2317   \n",
       "1   86400.0                0  1455.917463       11776       999.0        2355   \n",
       "2  172800.0                0  1405.824790       11861       999.0        2391   \n",
       "3  259200.0                0  1379.299391       11677       999.0        2344   \n",
       "4  345600.0                0  1234.199268       11871       999.0        2412   \n",
       "\n",
       "     Revenue  Operational Cost         Profit  \n",
       "0  2314683.0      1.660000e+06  654683.105645  \n",
       "1  2352645.0      1.678959e+06  673685.919907  \n",
       "2  2388609.0      1.696906e+06  691702.862976  \n",
       "3  2341656.0      1.673381e+06  668275.364656  \n",
       "4  2409588.0      1.707253e+06  702335.386013  "
      ]
     },
     "execution_count": 41,
     "metadata": {},
     "output_type": "execute_result"
    }
   ],
   "source": [
    "df_m = pd.read_csv(BASE_DIR + 'rca_microservice_architecture_latencies.csv')\n",
    "df = pd.read_csv(BASE_DIR + '2021 Data.csv')\n",
    "df['Shopping Event?'] = df['Shopping Event?'].astype(int)\n",
    "df['Date'] = pd.to_datetime(df['Date'])\n",
    "df['Time'] = (df['Date'] - df['Date'].min()).dt.total_seconds()\n",
    "column_to_move = 'Time'\n",
    "cols = [column_to_move] + [col for col in df if col != column_to_move]\n",
    "df = df[cols]\n",
    "df = df.drop(columns=['Date'])\n",
    "\n",
    "df.head()"
   ]
  },
  {
   "cell_type": "code",
   "execution_count": 42,
   "metadata": {},
   "outputs": [
    {
     "data": {
      "text/html": [
       "<div>\n",
       "<style scoped>\n",
       "    .dataframe tbody tr th:only-of-type {\n",
       "        vertical-align: middle;\n",
       "    }\n",
       "\n",
       "    .dataframe tbody tr th {\n",
       "        vertical-align: top;\n",
       "    }\n",
       "\n",
       "    .dataframe thead th {\n",
       "        text-align: right;\n",
       "    }\n",
       "</style>\n",
       "<table border=\"1\" class=\"dataframe\">\n",
       "  <thead>\n",
       "    <tr style=\"text-align: right;\">\n",
       "      <th></th>\n",
       "      <th>Time</th>\n",
       "      <th>Shopping Event?</th>\n",
       "      <th>Ad Spend</th>\n",
       "      <th>Page Views</th>\n",
       "      <th>Unit Price</th>\n",
       "      <th>Sold Units</th>\n",
       "      <th>Revenue</th>\n",
       "      <th>Operational Cost</th>\n",
       "      <th>Profit</th>\n",
       "    </tr>\n",
       "  </thead>\n",
       "  <tbody>\n",
       "    <tr>\n",
       "      <th>0</th>\n",
       "      <td>0.0</td>\n",
       "      <td>0</td>\n",
       "      <td>1392.335828</td>\n",
       "      <td>10018</td>\n",
       "      <td>899.1</td>\n",
       "      <td>2756</td>\n",
       "      <td>2477919.6</td>\n",
       "      <td>1.879401e+06</td>\n",
       "      <td>598518.397586</td>\n",
       "    </tr>\n",
       "  </tbody>\n",
       "</table>\n",
       "</div>"
      ],
      "text/plain": [
       "   Time  Shopping Event?     Ad Spend  Page Views  Unit Price  Sold Units  \\\n",
       "0   0.0                0  1392.335828       10018       899.1        2756   \n",
       "\n",
       "     Revenue  Operational Cost         Profit  \n",
       "0  2477919.6      1.879401e+06  598518.397586  "
      ]
     },
     "execution_count": 42,
     "metadata": {},
     "output_type": "execute_result"
    }
   ],
   "source": [
    "abnormal_df = pd.read_csv(BASE_DIR + '2022 First Day.csv')\n",
    "abnormal_df['Shopping Event?'] = abnormal_df['Shopping Event?'].astype(int)\n",
    "abnormal_df['Date'] = pd.to_datetime(abnormal_df['Date']) \n",
    "abnormal_df['Time'] = (abnormal_df['Date'] - abnormal_df['Date'].min()).dt.total_seconds()\n",
    "abnormal_df = abnormal_df[cols]\n",
    "abnormal_df = abnormal_df.drop(columns=['Date'])\n",
    "abnormal_df.head()"
   ]
  },
  {
   "cell_type": "code",
   "execution_count": null,
   "metadata": {},
   "outputs": [
    {
     "data": {
      "text/html": [
       "<div>\n",
       "<style scoped>\n",
       "    .dataframe tbody tr th:only-of-type {\n",
       "        vertical-align: middle;\n",
       "    }\n",
       "\n",
       "    .dataframe tbody tr th {\n",
       "        vertical-align: top;\n",
       "    }\n",
       "\n",
       "    .dataframe thead th {\n",
       "        text-align: right;\n",
       "    }\n",
       "</style>\n",
       "<table border=\"1\" class=\"dataframe\">\n",
       "  <thead>\n",
       "    <tr style=\"text-align: right;\">\n",
       "      <th></th>\n",
       "      <th>Time</th>\n",
       "      <th>Shopping Event?</th>\n",
       "      <th>Ad Spend</th>\n",
       "      <th>Page Views</th>\n",
       "      <th>Unit Price</th>\n",
       "      <th>Sold Units</th>\n",
       "      <th>Revenue</th>\n",
       "      <th>Operational Cost</th>\n",
       "      <th>Profit</th>\n",
       "    </tr>\n",
       "  </thead>\n",
       "  <tbody>\n",
       "    <tr>\n",
       "      <th>0</th>\n",
       "      <td>0.0</td>\n",
       "      <td>0</td>\n",
       "      <td>1392.335828</td>\n",
       "      <td>10018</td>\n",
       "      <td>899.1</td>\n",
       "      <td>2756</td>\n",
       "      <td>2477919.6</td>\n",
       "      <td>1.879401e+06</td>\n",
       "      <td>598518.397586</td>\n",
       "    </tr>\n",
       "    <tr>\n",
       "      <th>1</th>\n",
       "      <td>86400.0</td>\n",
       "      <td>0</td>\n",
       "      <td>1391.391381</td>\n",
       "      <td>10038</td>\n",
       "      <td>899.1</td>\n",
       "      <td>2726</td>\n",
       "      <td>2450946.6</td>\n",
       "      <td>1.864400e+06</td>\n",
       "      <td>586546.689520</td>\n",
       "    </tr>\n",
       "    <tr>\n",
       "      <th>2</th>\n",
       "      <td>172800.0</td>\n",
       "      <td>0</td>\n",
       "      <td>1293.990843</td>\n",
       "      <td>9941</td>\n",
       "      <td>899.1</td>\n",
       "      <td>2656</td>\n",
       "      <td>2388009.6</td>\n",
       "      <td>1.829299e+06</td>\n",
       "      <td>558710.202947</td>\n",
       "    </tr>\n",
       "    <tr>\n",
       "      <th>3</th>\n",
       "      <td>259200.0</td>\n",
       "      <td>0</td>\n",
       "      <td>1212.590398</td>\n",
       "      <td>9950</td>\n",
       "      <td>899.1</td>\n",
       "      <td>2741</td>\n",
       "      <td>2464433.1</td>\n",
       "      <td>1.871716e+06</td>\n",
       "      <td>592716.997018</td>\n",
       "    </tr>\n",
       "    <tr>\n",
       "      <th>4</th>\n",
       "      <td>345600.0</td>\n",
       "      <td>0</td>\n",
       "      <td>1182.469837</td>\n",
       "      <td>9764</td>\n",
       "      <td>899.1</td>\n",
       "      <td>2697</td>\n",
       "      <td>2424872.7</td>\n",
       "      <td>1.849701e+06</td>\n",
       "      <td>575171.638105</td>\n",
       "    </tr>\n",
       "  </tbody>\n",
       "</table>\n",
       "</div>"
      ],
      "text/plain": [
       "       Time  Shopping Event?     Ad Spend  Page Views  Unit Price  Sold Units  \\\n",
       "0       0.0                0  1392.335828       10018       899.1        2756   \n",
       "1   86400.0                0  1391.391381       10038       899.1        2726   \n",
       "2  172800.0                0  1293.990843        9941       899.1        2656   \n",
       "3  259200.0                0  1212.590398        9950       899.1        2741   \n",
       "4  345600.0                0  1182.469837        9764       899.1        2697   \n",
       "\n",
       "     Revenue  Operational Cost         Profit  \n",
       "0  2477919.6      1.879401e+06  598518.397586  \n",
       "1  2450946.6      1.864400e+06  586546.689520  \n",
       "2  2388009.6      1.829299e+06  558710.202947  \n",
       "3  2464433.1      1.871716e+06  592716.997018  \n",
       "4  2424872.7      1.849701e+06  575171.638105  "
      ]
     },
     "execution_count": 43,
     "metadata": {},
     "output_type": "execute_result"
    }
   ],
   "source": [
    "abnormal_distribution_df_m = pd.read_csv(BASE_DIR + 'rca_microservice_architecture_anomaly_1000.csv')\n",
    "abnormal_distribution_df = pd.read_csv(BASE_DIR + '2022 First Quarter.csv')\n",
    "abnormal_distribution_df['Shopping Event?'] = abnormal_distribution_df['Shopping Event?'].astype(int)\n",
    "abnormal_distribution_df['Date'] = pd.to_datetime(abnormal_distribution_df['Date']) \n",
    "abnormal_distribution_df['Time'] = (abnormal_distribution_df['Date'] - abnormal_distribution_df['Date'].min()).dt.total_seconds()\n",
    "abnormal_distribution_df = abnormal_distribution_df[cols]\n",
    "abnormal_distribution_df = abnormal_distribution_df.drop(columns=['Date'])\n",
    "\n",
    "abnormal_distribution_df.head()"
   ]
  },
  {
   "cell_type": "code",
   "execution_count": 44,
   "metadata": {},
   "outputs": [
    {
     "data": {
      "image/png": "[encoded data removed]",
      "text/plain": [
       "<Figure size 640x480 with 1 Axes>"
      ]
     },
     "metadata": {},
     "output_type": "display_data"
    }
   ],
   "source": [
    "causal_graph = nx.DiGraph([('Page Views', 'Sold Units'),\n",
    "                           ('Revenue', 'Profit'),\n",
    "                           ('Unit Price', 'Sold Units'),\n",
    "                           ('Unit Price', 'Revenue'),\n",
    "                           ('Shopping Event?', 'Page Views'),\n",
    "                           ('Shopping Event?', 'Sold Units'),\n",
    "                           ('Shopping Event?', 'Unit Price'),\n",
    "                           ('Shopping Event?', 'Ad Spend'),\n",
    "                           ('Ad Spend', 'Page Views'),\n",
    "                           ('Ad Spend', 'Operational Cost'),\n",
    "                           ('Sold Units', 'Revenue'),\n",
    "                           ('Sold Units', 'Operational Cost'),\n",
    "                           ('Operational Cost', 'Profit')])\n",
    "\n",
    "nx.draw_networkx(causal_graph, pos=nx.shell_layout(causal_graph))"
   ]
  },
  {
   "cell_type": "markdown",
   "metadata": {},
   "source": [
    "## PyRCA"
   ]
  },
  {
   "cell_type": "markdown",
   "metadata": {},
   "source": [
    "### Hypothesis-Testing Algorithm"
   ]
  },
  {
   "cell_type": "markdown",
   "metadata": {},
   "source": [
    "The key idea of this approach is to map anomalies to unexpected interventions. Specifically, it assumes that the normal data come from the observational distribution, while the abnormal data come from an intervention that has disrupted the system. The goal of root cause scoring using hypothesis testing is to recognize the intervention by identifying the variables (nodes) that have been intervened upon, given the normal and abnormal data. This can be achieved using statistical tests to compare the observed variable distribution in abnormal data with the estimated variable distribution obtained by training the estimated model with the normal data. If the difference is statistically significant, the corresponding variable (node) is a potential root cause.\n",
    "\n",
    "https://arxiv.org/pdf/2206.05871"
   ]
  },
  {
   "cell_type": "code",
   "execution_count": 45,
   "metadata": {},
   "outputs": [],
   "source": [
    "model_ht = HT(config=HT.config_class(graph=graph_df))\n",
    "model_ht.train(df)"
   ]
  },
  {
   "cell_type": "code",
   "execution_count": 46,
   "metadata": {},
   "outputs": [
    {
     "data": {
      "text/plain": [
       "RCAResults(root_cause_nodes=[('Revenue', 54.036222993373066), ('Unit Price', 8.64523685751185), ('Page Views', 6.630064268402317)], root_cause_paths={})"
      ]
     },
     "execution_count": 46,
     "metadata": {},
     "output_type": "execute_result"
    }
   ],
   "source": [
    "model_ht.find_root_causes(abnormal_df)"
   ]
  },
  {
   "cell_type": "code",
   "execution_count": 47,
   "metadata": {},
   "outputs": [
    {
     "data": {
      "text/plain": [
       "RCAResults(root_cause_nodes=[('Revenue', 62.32535704549109), ('Unit Price', 10.607057404901681), ('Page Views', 9.78494272651732)], root_cause_paths={})"
      ]
     },
     "execution_count": 47,
     "metadata": {},
     "output_type": "execute_result"
    }
   ],
   "source": [
    "df_filtered = abnormal_distribution_df.drop(columns=['Time'])\n",
    "model_ht.find_root_causes(df_filtered)"
   ]
  },
  {
   "cell_type": "markdown",
   "metadata": {},
   "source": [
    "### Random Walk"
   ]
  },
  {
   "cell_type": "markdown",
   "metadata": {},
   "source": [
    "A random walk is a stochastic process that moves randomly from one node to another in a graph. It is guided by a transition probability matrix that specifies the likelihood of moving from one node to another. In the context of RCA, the random walk algorithm is based on the assumption that a metric that is highly correlated with the anomaly metrics is more likely to be the root cause. By conducting random walks on the graph, the RCA model can calculate root cause scores for each metric and identify the top-K metrics that are most likely to be the candidate root cause of the anomaly metrics. The transition probability matrix is a crucial component of random walk approaches for RCA. It determines the likelihood of moving from one node to another during a random walk. Typically, there are three steps involved in computing the transition probability matrix (Cheng et al., 2023). The first is the forward step, which calculates the probability of walking from a node to one of its parents. The second is the backward step, which calculates the probability of walking from a node to one of its children. The third is the self step, which calculates the probability of staying at the current node. These probabilities can be estimated based on the graph structure, expert knowledge, or statistical analysis of the available data.\n",
    "\n",
    "https://ieeexplore.ieee.org/document/8411065\n",
    "\n",
    "https://arxiv.org/pdf/2304.04661"
   ]
  },
  {
   "cell_type": "code",
   "execution_count": 48,
   "metadata": {},
   "outputs": [],
   "source": [
    "model_rw = RandomWalk(config=RandomWalk.config_class(graph=graph_df))\n",
    "model_rw.train()"
   ]
  },
  {
   "cell_type": "markdown",
   "metadata": {},
   "source": [
    "#### Anomaly Detection"
   ]
  },
  {
   "cell_type": "code",
   "execution_count": 49,
   "metadata": {},
   "outputs": [
    {
     "name": "stderr",
     "output_type": "stream",
     "text": [
      "INFO:StatsDetector:Training for detector: StatsDetector\n",
      "INFO:StatsDetector:Detecting anomalies with detector: StatsDetector\n"
     ]
    },
    {
     "name": "stdout",
     "output_type": "stream",
     "text": [
      "{'anomalous_metrics': ['Page Views', 'Unit Price', 'Profit'], 'anomaly_timestamps': {'Page Views': [0, 1, 2, 3, 4, 5, 6, 7, 8, 9, 10, 11, 12, 13, 14, 15, 16, 17, 18, 19, 20, 21, 22, 23, 24, 25, 26, 27, 28, 29, 30, 31, 32, 33, 34, 35, 36, 37, 38, 39, 40, 41, 42, 43, 44, 45, 46, 47, 48, 49, 50, 51, 52, 53, 54, 55, 56, 57, 58, 59, 60, 61, 62, 63, 64, 65, 66, 67, 68, 69, 70, 71, 72, 73, 74, 75, 76, 77, 78, 79, 80, 81, 82, 83, 84, 85, 86, 87, 88, 89], 'Unit Price': [0, 1, 2, 3, 4, 5, 6, 7, 8, 9, 10, 11, 12, 13, 14, 15, 16, 17, 18, 19, 20, 21, 22, 23, 24, 25, 26, 27, 28, 29, 30, 31, 32, 33, 34, 35, 36, 37, 38, 39, 40, 41, 42, 43, 44, 45, 46, 47, 48, 49, 50, 51, 52, 53, 54, 55, 56, 57, 58, 59, 60, 61, 62, 63, 64, 65, 66, 67, 68, 69, 70, 71, 72, 73, 74, 75, 76, 77, 78, 79, 80, 81, 82, 83, 84, 85, 86, 87, 88, 89], 'Profit': [1, 2, 4, 6, 7, 8, 10, 16, 17, 18, 21, 22, 23, 26, 28, 31, 32, 33, 35, 38, 39, 41, 45, 47, 48, 49, 50, 51, 53, 55, 56, 57, 58, 59, 60, 62, 66, 68, 70, 72, 75, 78, 80, 81]}, 'anomaly_labels': {'Page Views':     Page Views\n",
      "0            1\n",
      "1            1\n",
      "2            1\n",
      "3            1\n",
      "4            1\n",
      "..         ...\n",
      "85           1\n",
      "86           1\n",
      "87           1\n",
      "88           1\n",
      "89           1\n",
      "\n",
      "[90 rows x 1 columns], 'Unit Price':     Unit Price\n",
      "0            1\n",
      "1            1\n",
      "2            1\n",
      "3            1\n",
      "4            1\n",
      "..         ...\n",
      "85           1\n",
      "86           1\n",
      "87           1\n",
      "88           1\n",
      "89           1\n",
      "\n",
      "[90 rows x 1 columns], 'Profit':     Profit\n",
      "0        0\n",
      "1        1\n",
      "2        1\n",
      "3        0\n",
      "4        1\n",
      "..     ...\n",
      "85       0\n",
      "86       0\n",
      "87       0\n",
      "88       0\n",
      "89       0\n",
      "\n",
      "[90 rows x 1 columns]}, 'anomaly_info': {'Page Views': {'normal_range': (11377.0, 14680.453774477319), 'mean_std': (12088.429004566213, 648.0061924777766), 'anomalies': [{'timestamp': 0, 'value': 10018, 'absolute_deviation': 2070.429004566213, 'z_score': 3.195075906140294}, {'timestamp': 1, 'value': 10038, 'absolute_deviation': 2050.429004566213, 'z_score': 3.164212004030212}, {'timestamp': 2, 'value': 9941, 'absolute_deviation': 2147.429004566213, 'z_score': 3.313901929264109}, {'timestamp': 3, 'value': 9950, 'absolute_deviation': 2138.429004566213, 'z_score': 3.3000131733145723}, {'timestamp': 4, 'value': 9764, 'absolute_deviation': 2324.429004566213, 'z_score': 3.587047462938334}, {'timestamp': 5, 'value': 10207, 'absolute_deviation': 1881.4290045662128, 'z_score': 2.9034120312000202}, {'timestamp': 6, 'value': 17412, 'absolute_deviation': 5323.570995433787, 'z_score': 8.21530870395698}, {'timestamp': 7, 'value': 10071, 'absolute_deviation': 2017.4290045662128, 'z_score': 3.113286565548577}, {'timestamp': 8, 'value': 10129, 'absolute_deviation': 1959.4290045662128, 'z_score': 3.0237812494293395}, {'timestamp': 9, 'value': 9984, 'absolute_deviation': 2104.429004566213, 'z_score': 3.2475445397274334}, {'timestamp': 10, 'value': 9863, 'absolute_deviation': 2225.429004566213, 'z_score': 3.4342711474934284}, {'timestamp': 11, 'value': 9916, 'absolute_deviation': 2172.429004566213, 'z_score': 3.3524818069017117}, {'timestamp': 12, 'value': 10173, 'absolute_deviation': 1915.4290045662128, 'z_score': 2.955880664787159}, {'timestamp': 13, 'value': 10145, 'absolute_deviation': 1943.4290045662128, 'z_score': 2.999090127741274}, {'timestamp': 14, 'value': 10082, 'absolute_deviation': 2006.4290045662128, 'z_score': 3.096311419388032}, {'timestamp': 15, 'value': 10099, 'absolute_deviation': 1989.4290045662128, 'z_score': 3.070077102594462}, {'timestamp': 16, 'value': 9907, 'absolute_deviation': 2181.429004566213, 'z_score': 3.3663705628512486}, {'timestamp': 17, 'value': 9888, 'absolute_deviation': 2200.429004566213, 'z_score': 3.3956912698558264}, {'timestamp': 18, 'value': 9764, 'absolute_deviation': 2324.429004566213, 'z_score': 3.587047462938334}, {'timestamp': 19, 'value': 10054, 'absolute_deviation': 2034.4290045662128, 'z_score': 3.1395208823421465}, {'timestamp': 20, 'value': 9924, 'absolute_deviation': 2164.429004566213, 'z_score': 3.340136246057679}, {'timestamp': 21, 'value': 9648, 'absolute_deviation': 2440.429004566213, 'z_score': 3.766058095176809}, {'timestamp': 22, 'value': 9842, 'absolute_deviation': 2246.429004566213, 'z_score': 3.4666782447090148}, {'timestamp': 23, 'value': 9802, 'absolute_deviation': 2286.429004566213, 'z_score': 3.5284060489291784}, {'timestamp': 24, 'value': 10229, 'absolute_deviation': 1859.4290045662128, 'z_score': 2.86946173887893}, {'timestamp': 25, 'value': 9978, 'absolute_deviation': 2110.429004566213, 'z_score': 3.2568037103604577}, {'timestamp': 26, 'value': 17915, 'absolute_deviation': 5826.570995433787, 'z_score': 8.99153584202554}, {'timestamp': 27, 'value': 9990, 'absolute_deviation': 2098.429004566213, 'z_score': 3.2382853690944087}, {'timestamp': 28, 'value': 9964, 'absolute_deviation': 2124.429004566213, 'z_score': 3.2784084418375152}, {'timestamp': 29, 'value': 10197, 'absolute_deviation': 1891.4290045662128, 'z_score': 2.918843982255061}, {'timestamp': 30, 'value': 10033, 'absolute_deviation': 2055.429004566213, 'z_score': 3.1719279795577324}, {'timestamp': 31, 'value': 10066, 'absolute_deviation': 2022.4290045662128, 'z_score': 3.1210025410760975}, {'timestamp': 32, 'value': 9997, 'absolute_deviation': 2091.429004566213, 'z_score': 3.22748300335588}, {'timestamp': 33, 'value': 10070, 'absolute_deviation': 2018.4290045662128, 'z_score': 3.114829760654081}, {'timestamp': 34, 'value': 10091, 'absolute_deviation': 1997.4290045662128, 'z_score': 3.082422663438495}, {'timestamp': 35, 'value': 9895, 'absolute_deviation': 2193.429004566213, 'z_score': 3.3848889041172976}, {'timestamp': 36, 'value': 9962, 'absolute_deviation': 2126.429004566213, 'z_score': 3.2814948320485233}, {'timestamp': 37, 'value': 10016, 'absolute_deviation': 2072.429004566213, 'z_score': 3.198162296351302}, {'timestamp': 38, 'value': 9861, 'absolute_deviation': 2227.429004566213, 'z_score': 3.437357537704437}, {'timestamp': 39, 'value': 9861, 'absolute_deviation': 2227.429004566213, 'z_score': 3.437357537704437}, {'timestamp': 40, 'value': 9972, 'absolute_deviation': 2116.429004566213, 'z_score': 3.2660628809934824}, {'timestamp': 41, 'value': 9750, 'absolute_deviation': 2338.429004566213, 'z_score': 3.608652194415391}, {'timestamp': 42, 'value': 9946, 'absolute_deviation': 2142.429004566213, 'z_score': 3.306185953736589}, {'timestamp': 43, 'value': 10233, 'absolute_deviation': 1855.4290045662128, 'z_score': 2.8632889584569137}, {'timestamp': 44, 'value': 10053, 'absolute_deviation': 2035.4290045662128, 'z_score': 3.1410640774476506}, {'timestamp': 45, 'value': 18894, 'absolute_deviation': 6805.570995433787, 'z_score': 10.502323850314047}, {'timestamp': 46, 'value': 9871, 'absolute_deviation': 2217.429004566213, 'z_score': 3.421925586649396}, {'timestamp': 47, 'value': 9910, 'absolute_deviation': 2178.429004566213, 'z_score': 3.361740977534736}, {'timestamp': 48, 'value': 9977, 'absolute_deviation': 2111.429004566213, 'z_score': 3.2583469054659617}, {'timestamp': 49, 'value': 10133, 'absolute_deviation': 1955.4290045662128, 'z_score': 3.0176084690073233}, {'timestamp': 50, 'value': 10084, 'absolute_deviation': 2004.4290045662128, 'z_score': 3.093225029177024}, {'timestamp': 51, 'value': 10085, 'absolute_deviation': 2003.4290045662128, 'z_score': 3.0916818340715198}, {'timestamp': 52, 'value': 9904, 'absolute_deviation': 2184.429004566213, 'z_score': 3.3710001481677607}, {'timestamp': 53, 'value': 9964, 'absolute_deviation': 2124.429004566213, 'z_score': 3.2784084418375152}, {'timestamp': 54, 'value': 10172, 'absolute_deviation': 1916.4290045662128, 'z_score': 2.9574238598926637}, {'timestamp': 55, 'value': 10076, 'absolute_deviation': 2012.4290045662128, 'z_score': 3.1055705900210566}, {'timestamp': 56, 'value': 10043, 'absolute_deviation': 2045.4290045662128, 'z_score': 3.1564960285026915}, {'timestamp': 57, 'value': 9702, 'absolute_deviation': 2386.429004566213, 'z_score': 3.682725559479588}, {'timestamp': 58, 'value': 9910, 'absolute_deviation': 2178.429004566213, 'z_score': 3.361740977534736}, {'timestamp': 59, 'value': 10020, 'absolute_deviation': 2068.429004566213, 'z_score': 3.191989515929286}, {'timestamp': 60, 'value': 9898, 'absolute_deviation': 2190.429004566213, 'z_score': 3.3802593188007855}, {'timestamp': 61, 'value': 9892, 'absolute_deviation': 2196.429004566213, 'z_score': 3.3895184894338097}, {'timestamp': 62, 'value': 10030, 'absolute_deviation': 2058.429004566213, 'z_score': 3.176557564874245}, {'timestamp': 63, 'value': 10010, 'absolute_deviation': 2078.429004566213, 'z_score': 3.207421466984327}, {'timestamp': 64, 'value': 10086, 'absolute_deviation': 2002.4290045662128, 'z_score': 3.0901386389660157}, {'timestamp': 65, 'value': 9990, 'absolute_deviation': 2098.429004566213, 'z_score': 3.2382853690944087}, {'timestamp': 66, 'value': 9850, 'absolute_deviation': 2238.429004566213, 'z_score': 3.454332683864982}, {'timestamp': 67, 'value': 10060, 'absolute_deviation': 2028.4290045662128, 'z_score': 3.130261711709122}, {'timestamp': 68, 'value': 10100, 'absolute_deviation': 1988.4290045662128, 'z_score': 3.068533907488958}, {'timestamp': 69, 'value': 9895, 'absolute_deviation': 2193.429004566213, 'z_score': 3.3848889041172976}, {'timestamp': 70, 'value': 9934, 'absolute_deviation': 2154.429004566213, 'z_score': 3.324704295002638}, {'timestamp': 71, 'value': 10107, 'absolute_deviation': 1981.4290045662128, 'z_score': 3.0577315417504294}, {'timestamp': 72, 'value': 10024, 'absolute_deviation': 2064.429004566213, 'z_score': 3.1858167355072693}, {'timestamp': 73, 'value': 10026, 'absolute_deviation': 2062.429004566213, 'z_score': 3.182730345296261}, {'timestamp': 74, 'value': 10165, 'absolute_deviation': 1923.4290045662128, 'z_score': 2.968226225631192}, {'timestamp': 75, 'value': 9992, 'absolute_deviation': 2096.429004566213, 'z_score': 3.2351989788834006}, {'timestamp': 76, 'value': 10155, 'absolute_deviation': 1933.4290045662128, 'z_score': 2.983658176686233}, {'timestamp': 77, 'value': 9897, 'absolute_deviation': 2191.429004566213, 'z_score': 3.3818025139062895}, {'timestamp': 78, 'value': 18781, 'absolute_deviation': 6692.570995433787, 'z_score': 10.327942803392085}, {'timestamp': 79, 'value': 9911, 'absolute_deviation': 2177.429004566213, 'z_score': 3.360197782429232}, {'timestamp': 80, 'value': 9934, 'absolute_deviation': 2154.429004566213, 'z_score': 3.324704295002638}, {'timestamp': 81, 'value': 9836, 'absolute_deviation': 2252.429004566213, 'z_score': 3.475937415342039}, {'timestamp': 82, 'value': 10077, 'absolute_deviation': 2011.4290045662128, 'z_score': 3.1040273949155526}, {'timestamp': 83, 'value': 10141, 'absolute_deviation': 1947.4290045662128, 'z_score': 3.0052629081632904}, {'timestamp': 84, 'value': 9881, 'absolute_deviation': 2207.429004566213, 'z_score': 3.4064936355943547}, {'timestamp': 85, 'value': 9917, 'absolute_deviation': 2171.429004566213, 'z_score': 3.3509386117962077}, {'timestamp': 86, 'value': 10016, 'absolute_deviation': 2072.429004566213, 'z_score': 3.198162296351302}, {'timestamp': 87, 'value': 10058, 'absolute_deviation': 2030.4290045662128, 'z_score': 3.1333481019201304}, {'timestamp': 88, 'value': 10093, 'absolute_deviation': 1995.4290045662128, 'z_score': 3.079336273227487}, {'timestamp': 89, 'value': 9839, 'absolute_deviation': 2249.429004566213, 'z_score': 3.471307830025527}]}, 'Unit Price': {'normal_range': (964.3751548811824, 999.0), 'mean_std': (995.3716027030854, 7.749111955475744), 'anomalies': [{'timestamp': 0, 'value': 899.1, 'absolute_deviation': 96.27160270308536, 'z_score': 12.423549823610298}, {'timestamp': 1, 'value': 899.1, 'absolute_deviation': 96.27160270308536, 'z_score': 12.423549823610298}, {'timestamp': 2, 'value': 899.1, 'absolute_deviation': 96.27160270308536, 'z_score': 12.423549823610298}, {'timestamp': 3, 'value': 899.1, 'absolute_deviation': 96.27160270308536, 'z_score': 12.423549823610298}, {'timestamp': 4, 'value': 899.1, 'absolute_deviation': 96.27160270308536, 'z_score': 12.423549823610298}, {'timestamp': 5, 'value': 899.1, 'absolute_deviation': 96.27160270308536, 'z_score': 12.423549823610298}, {'timestamp': 6, 'value': 831.3573114052718, 'absolute_deviation': 164.01429129781354, 'z_score': 21.165532332591116}, {'timestamp': 7, 'value': 899.1, 'absolute_deviation': 96.27160270308536, 'z_score': 12.423549823610298}, {'timestamp': 8, 'value': 899.1, 'absolute_deviation': 96.27160270308536, 'z_score': 12.423549823610298}, {'timestamp': 9, 'value': 899.1, 'absolute_deviation': 96.27160270308536, 'z_score': 12.423549823610298}, {'timestamp': 10, 'value': 899.1, 'absolute_deviation': 96.27160270308536, 'z_score': 12.423549823610298}, {'timestamp': 11, 'value': 899.1, 'absolute_deviation': 96.27160270308536, 'z_score': 12.423549823610298}, {'timestamp': 12, 'value': 899.1, 'absolute_deviation': 96.27160270308536, 'z_score': 12.423549823610298}, {'timestamp': 13, 'value': 899.1, 'absolute_deviation': 96.27160270308536, 'z_score': 12.423549823610298}, {'timestamp': 14, 'value': 899.1, 'absolute_deviation': 96.27160270308536, 'z_score': 12.423549823610298}, {'timestamp': 15, 'value': 899.1, 'absolute_deviation': 96.27160270308536, 'z_score': 12.423549823610298}, {'timestamp': 16, 'value': 899.1, 'absolute_deviation': 96.27160270308536, 'z_score': 12.423549823610298}, {'timestamp': 17, 'value': 899.1, 'absolute_deviation': 96.27160270308536, 'z_score': 12.423549823610298}, {'timestamp': 18, 'value': 899.1, 'absolute_deviation': 96.27160270308536, 'z_score': 12.423549823610298}, {'timestamp': 19, 'value': 899.1, 'absolute_deviation': 96.27160270308536, 'z_score': 12.423549823610298}, {'timestamp': 20, 'value': 899.1, 'absolute_deviation': 96.27160270308536, 'z_score': 12.423549823610298}, {'timestamp': 21, 'value': 899.1, 'absolute_deviation': 96.27160270308536, 'z_score': 12.423549823610298}, {'timestamp': 22, 'value': 899.1, 'absolute_deviation': 96.27160270308536, 'z_score': 12.423549823610298}, {'timestamp': 23, 'value': 899.1, 'absolute_deviation': 96.27160270308536, 'z_score': 12.423549823610298}, {'timestamp': 24, 'value': 899.1, 'absolute_deviation': 96.27160270308536, 'z_score': 12.423549823610298}, {'timestamp': 25, 'value': 899.1, 'absolute_deviation': 96.27160270308536, 'z_score': 12.423549823610298}, {'timestamp': 26, 'value': 831.9998636067619, 'absolute_deviation': 163.3717390963235, 'z_score': 21.082612976671573}, {'timestamp': 27, 'value': 899.1, 'absolute_deviation': 96.27160270308536, 'z_score': 12.423549823610298}, {'timestamp': 28, 'value': 899.1, 'absolute_deviation': 96.27160270308536, 'z_score': 12.423549823610298}, {'timestamp': 29, 'value': 899.1, 'absolute_deviation': 96.27160270308536, 'z_score': 12.423549823610298}, {'timestamp': 30, 'value': 899.1, 'absolute_deviation': 96.27160270308536, 'z_score': 12.423549823610298}, {'timestamp': 31, 'value': 899.1, 'absolute_deviation': 96.27160270308536, 'z_score': 12.423549823610298}, {'timestamp': 32, 'value': 899.1, 'absolute_deviation': 96.27160270308536, 'z_score': 12.423549823610298}, {'timestamp': 33, 'value': 899.1, 'absolute_deviation': 96.27160270308536, 'z_score': 12.423549823610298}, {'timestamp': 34, 'value': 899.1, 'absolute_deviation': 96.27160270308536, 'z_score': 12.423549823610298}, {'timestamp': 35, 'value': 899.1, 'absolute_deviation': 96.27160270308536, 'z_score': 12.423549823610298}, {'timestamp': 36, 'value': 899.1, 'absolute_deviation': 96.27160270308536, 'z_score': 12.423549823610298}, {'timestamp': 37, 'value': 899.1, 'absolute_deviation': 96.27160270308536, 'z_score': 12.423549823610298}, {'timestamp': 38, 'value': 899.1, 'absolute_deviation': 96.27160270308536, 'z_score': 12.423549823610298}, {'timestamp': 39, 'value': 899.1, 'absolute_deviation': 96.27160270308536, 'z_score': 12.423549823610298}, {'timestamp': 40, 'value': 899.1, 'absolute_deviation': 96.27160270308536, 'z_score': 12.423549823610298}, {'timestamp': 41, 'value': 899.1, 'absolute_deviation': 96.27160270308536, 'z_score': 12.423549823610298}, {'timestamp': 42, 'value': 899.1, 'absolute_deviation': 96.27160270308536, 'z_score': 12.423549823610298}, {'timestamp': 43, 'value': 899.1, 'absolute_deviation': 96.27160270308536, 'z_score': 12.423549823610298}, {'timestamp': 44, 'value': 899.1, 'absolute_deviation': 96.27160270308536, 'z_score': 12.423549823610298}, {'timestamp': 45, 'value': 790.8822013542945, 'absolute_deviation': 204.48940134879092, 'z_score': 26.388718944382216}, {'timestamp': 46, 'value': 899.1, 'absolute_deviation': 96.27160270308536, 'z_score': 12.423549823610298}, {'timestamp': 47, 'value': 899.1, 'absolute_deviation': 96.27160270308536, 'z_score': 12.423549823610298}, {'timestamp': 48, 'value': 899.1, 'absolute_deviation': 96.27160270308536, 'z_score': 12.423549823610298}, {'timestamp': 49, 'value': 883.1651108098041, 'absolute_deviation': 112.20649189328128, 'z_score': 14.47989753393842}, {'timestamp': 50, 'value': 899.1, 'absolute_deviation': 96.27160270308536, 'z_score': 12.423549823610298}, {'timestamp': 51, 'value': 899.1, 'absolute_deviation': 96.27160270308536, 'z_score': 12.423549823610298}, {'timestamp': 52, 'value': 899.1, 'absolute_deviation': 96.27160270308536, 'z_score': 12.423549823610298}, {'timestamp': 53, 'value': 899.1, 'absolute_deviation': 96.27160270308536, 'z_score': 12.423549823610298}, {'timestamp': 54, 'value': 899.1, 'absolute_deviation': 96.27160270308536, 'z_score': 12.423549823610298}, {'timestamp': 55, 'value': 899.1, 'absolute_deviation': 96.27160270308536, 'z_score': 12.423549823610298}, {'timestamp': 56, 'value': 899.1, 'absolute_deviation': 96.27160270308536, 'z_score': 12.423549823610298}, {'timestamp': 57, 'value': 899.1, 'absolute_deviation': 96.27160270308536, 'z_score': 12.423549823610298}, {'timestamp': 58, 'value': 899.1, 'absolute_deviation': 96.27160270308536, 'z_score': 12.423549823610298}, {'timestamp': 59, 'value': 899.1, 'absolute_deviation': 96.27160270308536, 'z_score': 12.423549823610298}, {'timestamp': 60, 'value': 899.1, 'absolute_deviation': 96.27160270308536, 'z_score': 12.423549823610298}, {'timestamp': 61, 'value': 899.1, 'absolute_deviation': 96.27160270308536, 'z_score': 12.423549823610298}, {'timestamp': 62, 'value': 899.1, 'absolute_deviation': 96.27160270308536, 'z_score': 12.423549823610298}, {'timestamp': 63, 'value': 899.1, 'absolute_deviation': 96.27160270308536, 'z_score': 12.423549823610298}, {'timestamp': 64, 'value': 899.1, 'absolute_deviation': 96.27160270308536, 'z_score': 12.423549823610298}, {'timestamp': 65, 'value': 899.1, 'absolute_deviation': 96.27160270308536, 'z_score': 12.423549823610298}, {'timestamp': 66, 'value': 899.1, 'absolute_deviation': 96.27160270308536, 'z_score': 12.423549823610298}, {'timestamp': 67, 'value': 899.1, 'absolute_deviation': 96.27160270308536, 'z_score': 12.423549823610298}, {'timestamp': 68, 'value': 899.1, 'absolute_deviation': 96.27160270308536, 'z_score': 12.423549823610298}, {'timestamp': 69, 'value': 899.1, 'absolute_deviation': 96.27160270308536, 'z_score': 12.423549823610298}, {'timestamp': 70, 'value': 899.1, 'absolute_deviation': 96.27160270308536, 'z_score': 12.423549823610298}, {'timestamp': 71, 'value': 899.1, 'absolute_deviation': 96.27160270308536, 'z_score': 12.423549823610298}, {'timestamp': 72, 'value': 899.1, 'absolute_deviation': 96.27160270308536, 'z_score': 12.423549823610298}, {'timestamp': 73, 'value': 899.1, 'absolute_deviation': 96.27160270308536, 'z_score': 12.423549823610298}, {'timestamp': 74, 'value': 899.1, 'absolute_deviation': 96.27160270308536, 'z_score': 12.423549823610298}, {'timestamp': 75, 'value': 899.1, 'absolute_deviation': 96.27160270308536, 'z_score': 12.423549823610298}, {'timestamp': 76, 'value': 899.1, 'absolute_deviation': 96.27160270308536, 'z_score': 12.423549823610298}, {'timestamp': 77, 'value': 899.1, 'absolute_deviation': 96.27160270308536, 'z_score': 12.423549823610298}, {'timestamp': 78, 'value': 852.3176505002403, 'absolute_deviation': 143.05395220284504, 'z_score': 18.46066599865023}, {'timestamp': 79, 'value': 899.1, 'absolute_deviation': 96.27160270308536, 'z_score': 12.423549823610298}, {'timestamp': 80, 'value': 899.1, 'absolute_deviation': 96.27160270308536, 'z_score': 12.423549823610298}, {'timestamp': 81, 'value': 899.1, 'absolute_deviation': 96.27160270308536, 'z_score': 12.423549823610298}, {'timestamp': 82, 'value': 899.1, 'absolute_deviation': 96.27160270308536, 'z_score': 12.423549823610298}, {'timestamp': 83, 'value': 899.1, 'absolute_deviation': 96.27160270308536, 'z_score': 12.423549823610298}, {'timestamp': 84, 'value': 899.1, 'absolute_deviation': 96.27160270308536, 'z_score': 12.423549823610298}, {'timestamp': 85, 'value': 899.1, 'absolute_deviation': 96.27160270308536, 'z_score': 12.423549823610298}, {'timestamp': 86, 'value': 899.1, 'absolute_deviation': 96.27160270308536, 'z_score': 12.423549823610298}, {'timestamp': 87, 'value': 899.1, 'absolute_deviation': 96.27160270308536, 'z_score': 12.423549823610298}, {'timestamp': 88, 'value': 899.1, 'absolute_deviation': 96.27160270308536, 'z_score': 12.423549823610298}, {'timestamp': 89, 'value': 899.1, 'absolute_deviation': 96.27160270308536, 'z_score': 12.423549823610298}]}, 'Profit': {'normal_range': (590049.5322345058, 1119660.8013819545), 'mean_std': (724269.3414293228, 98847.86498815787), 'anomalies': [{'timestamp': 1, 'value': 586546.6895195222, 'absolute_deviation': 137722.6519098006, 'z_score': 1.3932789738287943}, {'timestamp': 2, 'value': 558710.2029465891, 'absolute_deviation': 165559.13848273375, 'z_score': 1.6748883598630997}, {'timestamp': 4, 'value': 575171.638104927, 'absolute_deviation': 149097.7033243958, 'z_score': 1.5083553228709026}, {'timestamp': 6, 'value': 1367705.6183272572, 'absolute_deviation': 643436.2768979344, 'z_score': 6.509359376754626}, {'timestamp': 7, 'value': 585500.0829703368, 'absolute_deviation': 138769.25845898606, 'z_score': 1.403867027998755}, {'timestamp': 8, 'value': 571402.5014658347, 'absolute_deviation': 152866.83996348816, 'z_score': 1.5464860062110293}, {'timestamp': 10, 'value': 574693.5505977436, 'absolute_deviation': 149575.79083157924, 'z_score': 1.5131919220953}, {'timestamp': 16, 'value': 583104.0582379268, 'absolute_deviation': 141165.28319139604, 'z_score': 1.4281065473091077}, {'timestamp': 17, 'value': 567117.4159634081, 'absolute_deviation': 157151.92546591477, 'z_score': 1.589836315319946}, {'timestamp': 18, 'value': 574597.1392114046, 'absolute_deviation': 149672.20221791824, 'z_score': 1.5141672733215585}, {'timestamp': 21, 'value': 547261.0666429321, 'absolute_deviation': 177008.2747863907, 'z_score': 1.7907141928628345}, {'timestamp': 22, 'value': 514578.7104308342, 'absolute_deviation': 209690.63099848863, 'z_score': 2.121347092346369}, {'timestamp': 23, 'value': 556100.2952348785, 'absolute_deviation': 168169.0461944443, 'z_score': 1.701291638393791}, {'timestamp': 26, 'value': 1568682.559880129, 'absolute_deviation': 844413.2184508062, 'z_score': 8.542553938484586}, {'timestamp': 28, 'value': 574526.5892455091, 'absolute_deviation': 149742.75218381372, 'z_score': 1.5148809960296494}, {'timestamp': 31, 'value': 588039.3447933923, 'absolute_deviation': 136229.9966359305, 'z_score': 1.3781784425841597}, {'timestamp': 32, 'value': 577766.4327693237, 'absolute_deviation': 146502.90865999914, 'z_score': 1.4821049363355432}, {'timestamp': 33, 'value': 577919.0377282014, 'absolute_deviation': 146350.30370112148, 'z_score': 1.4805610996641034}, {'timestamp': 35, 'value': 583252.1216284698, 'absolute_deviation': 141017.21980085305, 'z_score': 1.4266086556698119}, {'timestamp': 38, 'value': 560074.0598528199, 'absolute_deviation': 164195.28157650295, 'z_score': 1.6610908245672569}, {'timestamp': 39, 'value': 582482.2397307528, 'absolute_deviation': 141787.10169857007, 'z_score': 1.4343972092994868}, {'timestamp': 41, 'value': 583495.5328609918, 'absolute_deviation': 140773.80856833106, 'z_score': 1.4241461722107454}, {'timestamp': 45, 'value': 1459350.6025946373, 'absolute_deviation': 735081.2611653145, 'z_score': 7.436491027692034}, {'timestamp': 47, 'value': 580745.3101298544, 'absolute_deviation': 143524.03129946848, 'z_score': 1.4519689555474282}, {'timestamp': 48, 'value': 576651.5513389851, 'absolute_deviation': 147617.79009033774, 'z_score': 1.4933836971905132}, {'timestamp': 49, 'value': 563991.6736914115, 'absolute_deviation': 160277.66773791134, 'z_score': 1.6214580632661946}, {'timestamp': 50, 'value': 574726.9045516595, 'absolute_deviation': 149542.43687766336, 'z_score': 1.5128544949397766}, {'timestamp': 51, 'value': 558723.37914568, 'absolute_deviation': 165545.96228364285, 'z_score': 1.6747550621020286}, {'timestamp': 53, 'value': 565317.5967322364, 'absolute_deviation': 158951.7446970864, 'z_score': 1.6080442880587114}, {'timestamp': 55, 'value': 577037.4198752579, 'absolute_deviation': 147231.92155406496, 'z_score': 1.4894800363852954}, {'timestamp': 56, 'value': 555429.3247283399, 'absolute_deviation': 168840.01670098293, 'z_score': 1.7080795493572818}, {'timestamp': 57, 'value': 559164.7978499578, 'absolute_deviation': 165104.543579365, 'z_score': 1.6702894248898739}, {'timestamp': 58, 'value': 569102.1291722101, 'absolute_deviation': 155167.21225711273, 'z_score': 1.569757852230844}, {'timestamp': 59, 'value': 579671.5425500635, 'absolute_deviation': 144597.79887925938, 'z_score': 1.462831785815041}, {'timestamp': 60, 'value': 569130.1147925628, 'absolute_deviation': 155139.22663676005, 'z_score': 1.5694747341245177}, {'timestamp': 62, 'value': 575475.1401021471, 'absolute_deviation': 148794.20132717572, 'z_score': 1.5052849278024227}, {'timestamp': 66, 'value': 586717.1158897243, 'absolute_deviation': 137552.2255395985, 'z_score': 1.391554845844793}, {'timestamp': 68, 'value': 567398.1297860276, 'absolute_deviation': 156871.21164329525, 'z_score': 1.5869964581047722}, {'timestamp': 70, 'value': 560260.817611279, 'absolute_deviation': 164008.52381804388, 'z_score': 1.659201479173074}, {'timestamp': 72, 'value': 586636.9146053256, 'absolute_deviation': 137632.4268239973, 'z_score': 1.3923662066607325}, {'timestamp': 75, 'value': 569595.7713979804, 'absolute_deviation': 154673.57003134245, 'z_score': 1.564763892818777}, {'timestamp': 78, 'value': 1463671.229731752, 'absolute_deviation': 739401.8883024292, 'z_score': 7.480200895752363}, {'timestamp': 80, 'value': 575267.594864408, 'absolute_deviation': 149001.74656491482, 'z_score': 1.5073845709028881}, {'timestamp': 81, 'value': 569452.6978343667, 'absolute_deviation': 154816.64359495614, 'z_score': 1.5662113045925807}]}}}\n"
     ]
    }
   ],
   "source": [
    "config = StatsDetectorConfig(\n",
    "    default_sigma=4.0,\n",
    "    thres_win_size=5,\n",
    "    thres_reduce_func='mean',\n",
    "    score_win_size=3,\n",
    "    anomaly_threshold=0.5\n",
    ")\n",
    "\n",
    "detector = StatsDetector(config)\n",
    "\n",
    "detector.train(df)\n",
    "\n",
    "detection_results = detector.predict(abnormal_distribution_df)\n",
    "\n",
    "results_dict = detection_results.to_dict()\n",
    "print(results_dict)"
   ]
  },
  {
   "cell_type": "code",
   "execution_count": 50,
   "metadata": {},
   "outputs": [
    {
     "data": {
      "text/plain": [
       "[{'root_cause': 'Shopping Event?',\n",
       "  'score': 0.6222666666666666,\n",
       "  'paths': [(0.34646666666666665,\n",
       "    [('Shopping Event?', None), ('Page Views', None)]),\n",
       "   (0.2607888888888889,\n",
       "    [('Shopping Event?', None), ('Ad Spend', None), ('Page Views', None)]),\n",
       "   (0.34856666666666664, [('Shopping Event?', None), ('Unit Price', None)]),\n",
       "   (0.186175,\n",
       "    [('Shopping Event?', None),\n",
       "     ('Ad Spend', None),\n",
       "     ('Operational Cost', None),\n",
       "     ('Profit', None)]),\n",
       "   (0.18413333333333334,\n",
       "    [('Shopping Event?', None),\n",
       "     ('Sold Units', None),\n",
       "     ('Operational Cost', None),\n",
       "     ('Profit', None)]),\n",
       "   (0.183675,\n",
       "    [('Shopping Event?', None),\n",
       "     ('Sold Units', None),\n",
       "     ('Revenue', None),\n",
       "     ('Profit', None)]),\n",
       "   (0.182075,\n",
       "    [('Shopping Event?', None),\n",
       "     ('Unit Price', None),\n",
       "     ('Revenue', None),\n",
       "     ('Profit', None)]),\n",
       "   (0.16228,\n",
       "    [('Shopping Event?', None),\n",
       "     ('Unit Price', None),\n",
       "     ('Sold Units', None),\n",
       "     ('Operational Cost', None),\n",
       "     ('Profit', None)]),\n",
       "   (0.16191333333333333,\n",
       "    [('Shopping Event?', None),\n",
       "     ('Unit Price', None),\n",
       "     ('Sold Units', None),\n",
       "     ('Revenue', None),\n",
       "     ('Profit', None)]),\n",
       "   (0.16144,\n",
       "    [('Shopping Event?', None),\n",
       "     ('Page Views', None),\n",
       "     ('Sold Units', None),\n",
       "     ('Operational Cost', None),\n",
       "     ('Profit', None)]),\n",
       "   (0.16107333333333335,\n",
       "    [('Shopping Event?', None),\n",
       "     ('Page Views', None),\n",
       "     ('Sold Units', None),\n",
       "     ('Revenue', None),\n",
       "     ('Profit', None)]),\n",
       "   (0.1494388888888889,\n",
       "    [('Shopping Event?', None),\n",
       "     ('Ad Spend', None),\n",
       "     ('Page Views', None),\n",
       "     ('Sold Units', None),\n",
       "     ('Operational Cost', None),\n",
       "     ('Profit', None)]),\n",
       "   (0.14913333333333334,\n",
       "    [('Shopping Event?', None),\n",
       "     ('Ad Spend', None),\n",
       "     ('Page Views', None),\n",
       "     ('Sold Units', None),\n",
       "     ('Revenue', None),\n",
       "     ('Profit', None)])]}]"
      ]
     },
     "execution_count": 50,
     "metadata": {},
     "output_type": "execute_result"
    }
   ],
   "source": [
    "model_rw.find_root_causes(['Page Views', 'Unit Price', 'Profit'], df_filtered).to_list()"
   ]
  },
  {
   "cell_type": "markdown",
   "metadata": {},
   "source": [
    "### Bayesian Network"
   ]
  },
  {
   "cell_type": "code",
   "execution_count": 51,
   "metadata": {},
   "outputs": [
    {
     "name": "stderr",
     "output_type": "stream",
     "text": [
      "WARNING:root:Replacing existing CPD for Page Views\n",
      "WARNING:root:Replacing existing CPD for Sold Units\n",
      "WARNING:root:Replacing existing CPD for Revenue\n",
      "WARNING:root:Replacing existing CPD for Operational Cost\n",
      "WARNING:root:Replacing existing CPD for Profit\n"
     ]
    }
   ],
   "source": [
    "model_bn = BayesianNetwork(config=BayesianNetwork.config_class(graph=graph_df))\n",
    "model_bn.train(df)"
   ]
  },
  {
   "cell_type": "code",
   "execution_count": 52,
   "metadata": {},
   "outputs": [
    {
     "name": "stderr",
     "output_type": "stream",
     "text": [
      "WARNING:root:Replacing existing CPD for Shopping Event?\n",
      "Finding Elimination Order: : 100%|██████████| 5/5 [00:00<00:00, 1811.01it/s]\n",
      "Eliminating: Shopping Event?: 100%|██████████| 5/5 [00:00<00:00, 421.22it/s]\n",
      "Finding Elimination Order: : 100%|██████████| 5/5 [00:00<00:00, 3573.27it/s]\n",
      "Eliminating: Shopping Event?: 100%|██████████| 5/5 [00:00<00:00, 779.90it/s]\n",
      "Finding Elimination Order: : 100%|██████████| 5/5 [00:00<00:00, 3337.82it/s]\n",
      "Eliminating: Revenue: 100%|██████████| 5/5 [00:00<00:00, 667.97it/s]    \n",
      "Finding Elimination Order: : 100%|██████████| 5/5 [00:00<00:00, 5047.30it/s]\n",
      "Eliminating: Shopping Event?: 100%|██████████| 5/5 [00:00<00:00, 767.18it/s]\n",
      "Finding Elimination Order: : 100%|██████████| 5/5 [00:00<00:00, 4625.39it/s]\n",
      "Eliminating: Shopping Event?: 100%|██████████| 5/5 [00:00<00:00, 783.02it/s]\n",
      "Finding Elimination Order: : 100%|██████████| 5/5 [00:00<00:00, 5048.51it/s]\n",
      "Eliminating: Shopping Event?: 100%|██████████| 5/5 [00:00<00:00, 705.61it/s]\n",
      "Finding Elimination Order: : 100%|██████████| 5/5 [00:00<00:00, 3063.32it/s]\n",
      "Eliminating: Shopping Event?: 100%|██████████| 5/5 [00:00<00:00, 732.66it/s]\n"
     ]
    },
    {
     "data": {
      "text/plain": [
       "[{'root_cause': 'ROOT_Shopping Event?',\n",
       "  'score': 0.9898695927668631,\n",
       "  'paths': [(0.9966822676463792,\n",
       "    [('ROOT_Shopping Event?', 0.9898695927668631),\n",
       "     ('Shopping Event?', 0.9998669313947585),\n",
       "     ('Unit Price', 1),\n",
       "     ('Revenue', 0.9936748140702742),\n",
       "     ('Profit', 1)]),\n",
       "   (0.9963771956300578,\n",
       "    [('ROOT_Shopping Event?', 0.9898695927668631),\n",
       "     ('Shopping Event?', 0.9998669313947585),\n",
       "     ('Page Views', 1),\n",
       "     ('Sold Units', 0.9948518355484508),\n",
       "     ('Revenue', 0.9936748140702742),\n",
       "     ('Profit', 1)]),\n",
       "   (0.9963771956300578,\n",
       "    [('ROOT_Shopping Event?', 0.9898695927668631),\n",
       "     ('Shopping Event?', 0.9998669313947585),\n",
       "     ('Unit Price', 1),\n",
       "     ('Sold Units', 0.9948518355484508),\n",
       "     ('Revenue', 0.9936748140702742),\n",
       "     ('Profit', 1)])]}]"
      ]
     },
     "execution_count": 52,
     "metadata": {},
     "output_type": "execute_result"
    }
   ],
   "source": [
    "model_bn.find_root_causes(['Page Views', 'Unit Price', 'Profit']).to_list()"
   ]
  },
  {
   "cell_type": "markdown",
   "metadata": {},
   "source": [
    "### Epsilon Diagnosis"
   ]
  },
  {
   "cell_type": "markdown",
   "metadata": {},
   "source": [
    "The ϵ-Diagnosis algorithm (Shan et al., 2019) is a low-cost RCA model that can detect the root causes of small window long-tail latency for web services. The algorithm assumes that the root cause metrics of an abnormal service have significantly changed between the abnormal and normal periods. To identify the root causes, the ϵ-Diagnosis Algorithm uses the two-sample test algorithm and ϵ-statistics for measuring the similarity of time series. In the two-sample test, one sample (normal sample) is drawn from the snapshot during the normal period, while the other sample (anomaly sample) is drawn during the anomalous period. If the difference is statistically significant, the corresponding metrics of the samples are potential root causes.\n",
    "\n",
    "https://netman.aiops.org/~peidan/ANM2023/8.AnomalyLocalization/LectureCoverage/2019WWW_%CF%B5-diagnosis.pdf"
   ]
  },
  {
   "cell_type": "code",
   "execution_count": 53,
   "metadata": {},
   "outputs": [],
   "source": [
    "model_ed = EpsilonDiagnosis(config=EpsilonDiagnosis.config_class(alpha=0.01))\n",
    "model_ed.train(df)"
   ]
  },
  {
   "cell_type": "code",
   "execution_count": 54,
   "metadata": {},
   "outputs": [
    {
     "data": {
      "text/plain": [
       "[{'root_cause': 'Shopping Event?', 'score': 1.0225981567983844, 'paths': None},\n",
       " {'root_cause': 'Revenue', 'score': 0.981732551559376, 'paths': None},\n",
       " {'root_cause': 'Sold Units', 'score': 0.9773970809885283, 'paths': None}]"
      ]
     },
     "execution_count": 54,
     "metadata": {},
     "output_type": "execute_result"
    }
   ],
   "source": [
    "min_rows = min(len(model_ed.normal_df), len(df_filtered))\n",
    "model_ed.normal_df = model_ed.normal_df.iloc[:min_rows]\n",
    "df_filtered = df_filtered.iloc[:min_rows]\n",
    "model_ed.find_root_causes(df_filtered).to_list()"
   ]
  },
  {
   "cell_type": "markdown",
   "metadata": {},
   "source": [
    "### Root Cause Discovery (RCD)"
   ]
  },
  {
   "cell_type": "markdown",
   "metadata": {},
   "source": [
    "Another low-cost RCA model that can uncover the dependencies between metrics using both normal and abnormal data. Its key features include the ability to model the anomaly as an intervention on the root cause node and the introduction of a binary indicator variable for normal and abnormal data. Compared to two-stage RCA models, RCD does not need to learn the full causal graph for RCA, allowing it to handle a larger set of metrics.\n",
    "\n",
    "https://openreview.net/pdf?id=weoLjoYFvXY"
   ]
  },
  {
   "cell_type": "code",
   "execution_count": 55,
   "metadata": {},
   "outputs": [],
   "source": [
    "model_rcd = RCD(config=RCD.config_class())\n",
    "model_rcd.train()"
   ]
  },
  {
   "cell_type": "code",
   "execution_count": 56,
   "metadata": {},
   "outputs": [
    {
     "name": "stdout",
     "output_type": "stream",
     "text": [
      "[{'root_cause': 'Ad Spend', 'score': None, 'paths': None}, {'root_cause': 'Operational Cost', 'score': None, 'paths': None}]\n"
     ]
    },
    {
     "name": "stderr",
     "output_type": "stream",
     "text": [
      "/home/davi/.local/lib/python3.8/site-packages/sklearn/preprocessing/_discretization.py:291: UserWarning: Bins whose width are too small (i.e., <= 1e-8) in feature 1 are removed. Consider decreasing the number of bins.\n",
      "  warnings.warn(\n",
      "/home/davi/.local/lib/python3.8/site-packages/sklearn/preprocessing/_discretization.py:291: UserWarning: Bins whose width are too small (i.e., <= 1e-8) in feature 4 are removed. Consider decreasing the number of bins.\n",
      "  warnings.warn(\n",
      "/home/davi/.local/lib/python3.8/site-packages/sklearn/preprocessing/_discretization.py:280: ConvergenceWarning: Number of distinct clusters (2) found smaller than n_clusters (5). Possibly due to duplicate points in X.\n",
      "  centers = km.fit(column[:, None]).cluster_centers_[:, 0]\n",
      "/home/davi/.local/lib/python3.8/site-packages/sklearn/preprocessing/_discretization.py:291: UserWarning: Bins whose width are too small (i.e., <= 1e-8) in feature 0 are removed. Consider decreasing the number of bins.\n",
      "  warnings.warn(\n"
     ]
    }
   ],
   "source": [
    "import pandas as pd\n",
    "from sklearn.preprocessing import KBinsDiscretizer, StandardScaler\n",
    "\n",
    "# Drop low-variance features from abnormal_distribution_df\n",
    "low_variance_features = abnormal_distribution_df.var()[abnormal_distribution_df.var() < 1e-8].index\n",
    "abnormal_distribution_df = abnormal_distribution_df.drop(columns=low_variance_features)\n",
    "\n",
    "# Normalize the data to handle scaling issues\n",
    "scaler = StandardScaler()\n",
    "abnormal_distribution_df_normalized = pd.DataFrame(\n",
    "    scaler.fit_transform(abnormal_distribution_df), \n",
    "    columns=abnormal_distribution_df.columns\n",
    ")\n",
    "\n",
    "# Apply discretization with fewer bins and the quantile strategy\n",
    "discretizer = KBinsDiscretizer(n_bins=3, encode='ordinal', strategy='quantile')\n",
    "df_discretized = pd.DataFrame(\n",
    "    discretizer.fit_transform(abnormal_distribution_df_normalized), \n",
    "    columns=abnormal_distribution_df.columns\n",
    ")\n",
    "\n",
    "# Re-run root cause analysis\n",
    "root_causes = model_rcd.find_root_causes(df, df_discretized).to_list()\n",
    "print(root_causes)"
   ]
  },
  {
   "cell_type": "code",
   "execution_count": 57,
   "metadata": {},
   "outputs": [
    {
     "name": "stderr",
     "output_type": "stream",
     "text": [
      "/home/davi/.local/lib/python3.8/site-packages/sklearn/preprocessing/_discretization.py:280: ConvergenceWarning: Number of distinct clusters (2) found smaller than n_clusters (5). Possibly due to duplicate points in X.\n",
      "  centers = km.fit(column[:, None]).cluster_centers_[:, 0]\n",
      "/home/davi/.local/lib/python3.8/site-packages/sklearn/preprocessing/_discretization.py:291: UserWarning: Bins whose width are too small (i.e., <= 1e-8) in feature 3 are removed. Consider decreasing the number of bins.\n",
      "  warnings.warn(\n"
     ]
    },
    {
     "data": {
      "text/plain": [
       "RCAResults(root_cause_nodes=[('Page Views', None), ('Profit', None), ('Unit Price', None)], root_cause_paths={})"
      ]
     },
     "execution_count": 57,
     "metadata": {},
     "output_type": "execute_result"
    }
   ],
   "source": [
    "model_rcd.find_root_causes(df, abnormal_distribution_df)"
   ]
  }
 ],
 "metadata": {
  "kernelspec": {
   "display_name": "Python 3",
   "language": "python",
   "name": "python3"
  },
  "language_info": {
   "codemirror_mode": {
    "name": "ipython",
    "version": 3
   },
   "file_extension": ".py",
   "mimetype": "text/x-python",
   "name": "python",
   "nbconvert_exporter": "python",
   "pygments_lexer": "ipython3",
   "version": "3.8.10"
  }
 },
 "nbformat": 4,
 "nbformat_minor": 2
}
